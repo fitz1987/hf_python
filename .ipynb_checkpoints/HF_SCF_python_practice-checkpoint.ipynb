{
 "cells": [
  {
   "cell_type": "markdown",
   "metadata": {},
   "source": [
    "# because who doesn't try to review a scripting language by following a tutorial for something familiar\n",
    "\n",
    "Following a tutorial online to review python. Tutorial link: https://medium.com/analytics-vidhya/practical-introduction-to-hartree-fock-448fc64c107b \n",
    "\n",
    "This is a series of functions defined and somewhat documented as I go, following the code in the tutorial to review python. So functions are defined in a...somewhat logical order and then all of it is called by the driver script at the end. \n",
    "\n",
    "and guess what!! some of it is spaghetti code. 😇🦑 I'm considering it as a toy box to practice different concepts, not as a finished product."
   ]
  },
  {
   "cell_type": "code",
   "execution_count": 1,
   "metadata": {},
   "outputs": [],
   "source": [
    "# import stuff"
   ]
  },
  {
   "cell_type": "code",
   "execution_count": 33,
   "metadata": {},
   "outputs": [],
   "source": [
    "import numpy as np\n",
    "from numpy import *\n",
    "import scipy\n",
    "from scipy.special import erf"
   ]
  },
  {
   "cell_type": "markdown",
   "metadata": {
    "collapsed": true
   },
   "source": [
    "# Molecular Geometry input reader\n",
    "Make a really basic input reader for the .xyz file format, which is common to many programs and operating systems.  And also easy to get an .xyz out of avogadro or molden or macmolplot if you are a more civilized person. \n",
    "This part reads input from an xyz file."
   ]
  },
  {
   "cell_type": "code",
   "execution_count": 10,
   "metadata": {},
   "outputs": [],
   "source": [
    "def xyz_input(inp_name):\n",
    "    # from the input file molecule.xyz will read number of atoms, atom types, and coords\n",
    "    file = open(inp_name, 'r')\n",
    "    number_of_atoms = 0\n",
    "    atom_type = []\n",
    "    atom_coords = []\n",
    "    \n",
    "    for idx, line in enumerate(file):\n",
    "        # first get the number of atoms\n",
    "        if idx == 0:\n",
    "            try: \n",
    "                number_of_atoms = line.split()[0]\n",
    "            except: print(\"error in xyz file formatting 😢.\")\n",
    "        #skip the comment or blank line\n",
    "        if idx == 1:\n",
    "            continue\n",
    "        if idx != 0:\n",
    "            split = line.split()\n",
    "            atom = split[0]\n",
    "            coordinates = np.array([float(split[1]),\n",
    "                          float(split[2]),\n",
    "                          float(split[3])])\n",
    "            atom_type.append(atom)\n",
    "            atom_coords.append(coordinates)\n",
    "    file.close()\n",
    "    return int(number_of_atoms), atom_type, atom_coords\n",
    "    "
   ]
  },
  {
   "cell_type": "code",
   "execution_count": 11,
   "metadata": {},
   "outputs": [],
   "source": [
    "inp_name = \"/Users/ameliafitzsimmons/code/heh.xyz\""
   ]
  },
  {
   "cell_type": "code",
   "execution_count": 12,
   "metadata": {},
   "outputs": [],
   "source": [
    "N_atoms, atoms, atom_coords = xyz_input(inp_name)"
   ]
  },
  {
   "cell_type": "code",
   "execution_count": 13,
   "metadata": {},
   "outputs": [
    {
     "data": {
      "text/plain": [
       "(['He', 'H'], [array([0., 0., 0.]), array([0.    , 0.    , 1.4632])])"
      ]
     },
     "execution_count": 13,
     "metadata": {},
     "output_type": "execute_result"
    }
   ],
   "source": [
    "atoms, atom_coords"
   ]
  },
  {
   "cell_type": "markdown",
   "metadata": {},
   "source": [
    "# Basis Set Defintion section\n",
    "\n",
    "Define a Gaussian-type basis set for just a few atoms, only the ones that I plan to use to actually test this. "
   ]
  },
  {
   "cell_type": "code",
   "execution_count": 14,
   "metadata": {},
   "outputs": [],
   "source": [
    "# using an STO-nG type basis set bc why not. Can extend it later for other types, \n",
    "# but will need to make dictionaries that fit those other types. \n",
    "STOnG = 3\n",
    "\n",
    "# define a dictionary of the zeta values: those are the exponents of the Slater orbitals\n",
    "zeta_dict = {'H' : [1.24], 'He' : [2.0925], 'Li': [2.69, 0.8], 'Be': [3.68, 1.15], 'B' : [4.68, 1.50], 'C' : [5.67, 1.72]}\n",
    "\n",
    "# define a dictionary of the maximum principle quantum number for each atom in the ground state (minimal basis)\n",
    "max_quantum_number = {'H' : 1, 'He' : 1, 'Li' : 2, 'Be' : 2, 'B' : 2, 'C' : 2}\n",
    "\n",
    "#array of gaussian contraction coeffs going up to 2s\n",
    "# source: J. Chem. Phys. 51, 2657, (1969)\n",
    "D = np.array([[0.444635, 0.535328, 0.154329], [0.700115, 0.399513,-0.0999672]])\n",
    "\n",
    "#array of gaussian orbital exponents \n",
    "# still only going up to 2s\n",
    "\n",
    "alpha = np.array([[0.109818, 0.405771, 2.22766],[0.0751386,0.231031, 0.994203]])\n",
    "\n",
    "# size of basis set: \n",
    "B = 0\n",
    "for atom in atoms:\n",
    "    B += max_quantum_number[atom]\n"
   ]
  },
  {
   "cell_type": "markdown",
   "metadata": {},
   "source": [
    "# Store number of electrons section\n",
    "\n",
    "Need the charge on each atom; dictionary is a convenient data structure for storing these. \n"
   ]
  },
  {
   "cell_type": "code",
   "execution_count": 15,
   "metadata": {},
   "outputs": [],
   "source": [
    "# number of electrons - define this by hand for each system. \n",
    "N = 2\n",
    "\n",
    "# Charge dictionary goes up only to Argon\n",
    "# because I don't want to worry about d-electrons yet.\n",
    "# dictionary of charges on each nucleus\n",
    "charge_dict = {'H' : 1, 'He' : 2, 'Li' : 3, 'Be' : 4, 'B' : 5, 'C': 6, 'N': 7, 'O' : 8, 'F' : 9, 'Ne' : 10,\n",
    "              'Na' : 11, 'Mg': 12, 'Al'  : 13, 'Si' : 14, 'P' : 15, 'S' : 16, 'Cl' : 17, 'Ar' : 18}"
   ]
  },
  {
   "cell_type": "code",
   "execution_count": 16,
   "metadata": {},
   "outputs": [
    {
     "data": {
      "text/plain": [
       "{'H': 1,\n",
       " 'He': 2,\n",
       " 'Li': 3,\n",
       " 'Be': 4,\n",
       " 'B': 5,\n",
       " 'C': 6,\n",
       " 'N': 7,\n",
       " 'O': 8,\n",
       " 'F': 9,\n",
       " 'Ne': 10,\n",
       " 'Na': 11,\n",
       " 'Mg': 12,\n",
       " 'Al': 13,\n",
       " 'Si': 14,\n",
       " 'P': 15,\n",
       " 'S': 16,\n",
       " 'Cl': 17,\n",
       " 'Ar': 18}"
      ]
     },
     "execution_count": 16,
     "metadata": {},
     "output_type": "execute_result"
    }
   ],
   "source": [
    "charge_dict"
   ]
  },
  {
   "cell_type": "markdown",
   "metadata": {},
   "source": [
    "# Next section: getting all the integrals\n",
    "\n",
    "Define the integrals we need. Happily, the product of two Gaussian type functions is a Gaussian-type function :)\n",
    "\n",
    "The atomic orbitals are linear sums of GTOs, and the Fock matrix is built from the AOs. \n",
    "\n",
    "First: defintion of a function that finds the product of two Gaussian-type functions. "
   ]
  },
  {
   "cell_type": "code",
   "execution_count": 17,
   "metadata": {},
   "outputs": [],
   "source": [
    "def gauss_product(gauss_A, gauss_B):\n",
    "    # the product of two gaussians is a gaussian\n",
    "    # store the exponents and centers as a tuple :)\n",
    "    a, Ra = gauss_A\n",
    "    b, Rb = gauss_B\n",
    "    p = a + b\n",
    "    diff = np.linalg.norm(Ra - Rb)**2 # finding the squared difference of the 2 centers\n",
    "    N = (4*a*b/(pi**2))**0.75 # normalize that shiz\n",
    "    K = N*exp(-a*b/p*diff) # find new prefactor\n",
    "    Rp = (a*Ra + b*Rb)/p   # find new center\n",
    "    return p, diff, K, Rp"
   ]
  },
  {
   "cell_type": "markdown",
   "metadata": {},
   "source": [
    "Next: find the overlap integral between two gaussians"
   ]
  },
  {
   "cell_type": "code",
   "execution_count": 18,
   "metadata": {},
   "outputs": [],
   "source": [
    "def overlap(A,B):\n",
    "    p, diff, K, Rp = gauss_product(A, B)\n",
    "    prefactor = (pi/p)**1.5\n",
    "    return prefactor*K"
   ]
  },
  {
   "cell_type": "markdown",
   "metadata": {},
   "source": [
    "Next: find the KE integral between two gaussians"
   ]
  },
  {
   "cell_type": "code",
   "execution_count": 19,
   "metadata": {},
   "outputs": [],
   "source": [
    "def kinetic(A,B):\n",
    "    p, diff, K, Rp = gauss_product(A, B)\n",
    "    prefactor = (pi/p)**1.5\n",
    "    a, Ra = A\n",
    "    b, Rb = B\n",
    "    reduced_exponent = a*b/p\n",
    "    return reduced_exponent*(3-2*reduced_exponent*diff)*prefactor*K "
   ]
  },
  {
   "cell_type": "markdown",
   "metadata": {},
   "source": [
    "Next: define F0, so that we can calculate e-e repulsion and multi-e tensor\n",
    "related to the error function. However, this won't work for 2p and higher. So will have to change that up later to allow calculations for more interesting systems!"
   ]
  },
  {
   "cell_type": "code",
   "execution_count": 20,
   "metadata": {},
   "outputs": [],
   "source": [
    "def F0(t): \n",
    "    if t == 0: \n",
    "        return 1\n",
    "    else: \n",
    "        return (0.5*(pi/t)**0.5)*erf(t**0.5)"
   ]
  },
  {
   "cell_type": "markdown",
   "metadata": {},
   "source": [
    "Next: define potential: nucleus-electron"
   ]
  },
  {
   "cell_type": "code",
   "execution_count": 21,
   "metadata": {},
   "outputs": [],
   "source": [
    "def potential(A, B, atom_idx):\n",
    "    p, diff, K, Rp = gauss_product(A,B)\n",
    "    Rc = atom_coords[atom_idx] # location of third atom\n",
    "    Zc = charge_dict[atoms[atom_idx]]\n",
    "    return (-2*pi*Zc/p)*K*F0(p*np.linalg.norm(Rp-Rc)**2)"
   ]
  },
  {
   "cell_type": "markdown",
   "metadata": {},
   "source": [
    "Next: define multi-electron repulsion integrals (ab | cd)"
   ]
  },
  {
   "cell_type": "code",
   "execution_count": 22,
   "metadata": {},
   "outputs": [],
   "source": [
    "def multi(A,B, C, D):\n",
    "    p, diff_ab, K_ab, Rp = gauss_product(A,B)\n",
    "    q, diff_cd, K_cd, Rq = gauss_product(C,D)\n",
    "    multi_prefactor = 2*pi**2.5*(p*q*(p+q)**0.5)**-1\n",
    "    return multi_prefactor*K_ab*K_cd*F0(p*q/(p+q)*np.linalg.norm(Rp-Rq)**2)\n",
    "    "
   ]
  },
  {
   "cell_type": "markdown",
   "metadata": {},
   "source": [
    "Next: need to find the integrals but in the AO basis. \n",
    "\n",
    "Oganized in for loops: \n",
    "- outer loop is over the atoms\n",
    "- inner loop in over the orbitals\n",
    "- innermost loop is over the three GTOs that make up that AO\n",
    "\n",
    "So for each atom it will calculate all integrals for its orbitals and then over all its GTOs, then move on to the next atom and calculate all integrals for its atoms, and so on. This way there are fewer calls to memory = more efficient. \n",
    "\n",
    "The matrices will be called following the standard names for these: \n",
    "- S: overlap matrix\n",
    "- T: kinetic energy matrix\n",
    "- V: potential energy matrix\n",
    "\n",
    "All three will start out as null matrices, which will protect us from there accidentally being garbage stored in their memory locations when we start up, potentially ruining the results. \n"
   ]
  },
  {
   "cell_type": "code",
   "execution_count": 23,
   "metadata": {},
   "outputs": [],
   "source": [
    "S = np.zeros((B, B))\n",
    "T = np.zeros((B,B))\n",
    "V = np.zeros((B,B))\n",
    "multi_electron_tensor = np.zeros((B,B,B,B))\n",
    "#atom_coords"
   ]
  },
  {
   "cell_type": "code",
   "execution_count": 24,
   "metadata": {
    "scrolled": true
   },
   "outputs": [],
   "source": [
    "for idx_a, val_a in enumerate(atoms): # iterate over atoms\n",
    "    Za = charge_dict[val_a] # get the charge on the atom\n",
    "    Ra = atom_coords[idx_a] # get the center of each atom\n",
    "   # print('Ra: {}'.format(Ra)) # for debugging \n",
    "    \n",
    "    for m in range(max_quantum_number[val_a]): #iterate over all quantum numbers for that atom\n",
    "        d_vec_m = D[m] # get contraction coefficients\n",
    "        zeta = zeta_dict[val_a][m] # get zeta \n",
    "        alpha_vec_m = alpha[m]*zeta**2 # scale them by the formula in eqn 3.224 on szabo and ostlund\n",
    "        \n",
    "        for p in range(STOnG): # iterate over contraction coefficients\n",
    "            \n",
    "            for idx_b, val_b in enumerate(atoms): #iterate over second atoms\n",
    "                Zb = charge_dict[val_b]\n",
    "                Rb = atom_coords[idx_b]\n",
    "           #     print('Rb: {}'.format(Rb)) # for debugging \n",
    "                for n in range(max_quantum_number[val_b]): # notice its the same as the loop above just for atom b\n",
    "                    d_vec_n = D[n]\n",
    "                    zeta = zeta_dict[val_b][n]\n",
    "                    alpha_vec_n = alpha[n]*zeta**2 \n",
    "                    for q in range (STOnG): \n",
    "                        a = (idx_a+1)*(m+1)-1 # unlike C (but like Fortran) python indexing starts at ZERO\n",
    "                        b = (idx_b+1)*(n+1)-1 \n",
    "                        \n",
    "                        # build overlap matrix\n",
    "                        S[a,b] += d_vec_m[p]*d_vec_n[q]*overlap((alpha_vec_m[p],Ra), (alpha_vec_n[q],Rb))\n",
    "                        \n",
    "                        # build KE matrix\n",
    "                        T[a,b] += d_vec_m[p]*d_vec_n[q]*kinetic((alpha_vec_m[p], Ra), (alpha_vec_n[q], Rb))\n",
    "                        \n",
    "                        # build potential matrix\n",
    "                        for i in range (N_atoms):\n",
    "                            V[a,b] += d_vec_m[p]*d_vec_n[q]*potential((alpha_vec_m[p], Ra), (alpha_vec_n[q], Rb), i)\n",
    "                        for idx_c, val_c, in enumerate(atoms): # get multielectron tensor\n",
    "                            Z_c = charge_dict[val_c]\n",
    "                            Rc = atom_coords[idx_c]\n",
    "                            for k in range (max_quantum_number[val_c]):\n",
    "                                d_vec_k = D[k]\n",
    "                                zeta = zeta_dict[val_c][k]\n",
    "                                alpha_vec_k = alpha[k]*zeta**2\n",
    "                                for r in range(STOnG): \n",
    "                                    for idx_d, val_d in enumerate(atoms):\n",
    "                                        Z_d = charge_dict[val_d]\n",
    "                                        Rd = atom_coords[idx_d]\n",
    "                                        for l in range(max_quantum_number[val_d]):\n",
    "                                            d_vec_l = D[l]\n",
    "                                            zeta = zeta_dict[val_d][l]\n",
    "                                            alpha_vec_l = alpha[l]*zeta**2\n",
    "                                            for s in range(STOnG):\n",
    "                                                c = (idx_c+1)*(k+1)-1\n",
    "                                                d = (idx_d+1)*(l+1)-1\n",
    "                                                multi_electron_tensor[a,b,c,d] += d_vec_m[p]*d_vec_n[q]*d_vec_k[r]*d_vec_l[s]*(\n",
    "                                                multi((alpha_vec_m[p], Ra), \n",
    "                                                       (alpha_vec_n[q], Rb), \n",
    "                                                       (alpha_vec_k[r], Rc), \n",
    "                                                       (alpha_vec_l[s], Rd))\n",
    "                                                )"
   ]
  },
  {
   "cell_type": "markdown",
   "metadata": {},
   "source": [
    "Next: combine KE and PE integrals to form Hcore"
   ]
  },
  {
   "cell_type": "code",
   "execution_count": 25,
   "metadata": {},
   "outputs": [],
   "source": [
    "Hcore = T + V"
   ]
  },
  {
   "cell_type": "code",
   "execution_count": 34,
   "metadata": {},
   "outputs": [
    {
     "data": {
      "text/plain": [
       "array([[-2.65274472, -1.34720517],\n",
       "       [-1.34720517, -1.7318284 ]])"
      ]
     },
     "execution_count": 34,
     "metadata": {},
     "output_type": "execute_result"
    }
   ],
   "source": [
    "Hcore # just check value of Hcore\n",
    "# Note: Hcore is not sparse, we can prove it using some numpy:\n"
   ]
  },
  {
   "cell_type": "markdown",
   "metadata": {},
   "source": [
    "Next: solve Roothan eqns to diagonalize F' \n",
    "reference: S&O starting on p.144\n",
    "diagonalizing F' = X_dagger FX\n",
    "Symmetric orthogonalization of basis "
   ]
  },
  {
   "cell_type": "code",
   "execution_count": 35,
   "metadata": {},
   "outputs": [],
   "source": [
    "evalS, U = np.linalg.eig(S)\n",
    "diagS = dot(U.T, dot(S,U))\n",
    "diagS_minushalf = diag(diagonal(diagS)**-0.5)\n",
    "X = dot(U, dot(diagS_minushalf, U.T))"
   ]
  },
  {
   "cell_type": "markdown",
   "metadata": {},
   "source": [
    "# Iterative HF steps time :)\n",
    "\n",
    "Sine we now have MOs, it's time to find their energy and then iterate until the solution converges. (steepest descent? what method?)\n",
    "\n",
    "Since we sum only over occupied orbitals, the density matrix is also a bon-order matrix - NBO and other bond order analysis methods use the density matrix to partition the space around the nuclei and assign electron density to different nuclei. That's a subject for another day, though :) \n",
    "\n",
    "So first off we're finding out what the difference is between the last two iterations of the density matrix. "
   ]
  },
  {
   "cell_type": "code",
   "execution_count": 36,
   "metadata": {},
   "outputs": [],
   "source": [
    "def SD_successive_density_matrix_elements(Ptilde, P):\n",
    "    x = 0\n",
    "    for i in range(B):\n",
    "        for j in range(B):\n",
    "            x += B**-2*(Ptilde[i,j]-P[i,j])**2\n",
    "    return x**0.5"
   ]
  },
  {
   "cell_type": "markdown",
   "metadata": {},
   "source": [
    "The outermost control structure for this will be a while loop that keeps going until Ptilde and P converge. That's it. \n",
    "\n",
    "Ok, next we have to somehow guess P in order to start, since this is an iterative process. "
   ]
  },
  {
   "cell_type": "code",
   "execution_count": 37,
   "metadata": {},
   "outputs": [],
   "source": [
    "# initial guess of P, the density matrix\n",
    "P = np.zeros((B,B)) # has to be the size of the basis \n",
    "P_previous = np.zeros((B,B)) # the previous density matrix also has to be zeros at the start\n",
    "P_list = [] # keeping old P to track convergence"
   ]
  },
  {
   "cell_type": "code",
   "execution_count": 41,
   "metadata": {},
   "outputs": [
    {
     "name": "stdout",
     "output_type": "stream",
     "text": [
      "\n",
      "\n",
      "STOnG restricted closed shell HF converged in 8 iterations\n",
      "\n",
      "\n",
      "The orbital energies are -1.597451806285278 and -0.061669836926438404 in units of Hartree, ofc\n",
      "\n",
      "\n",
      "The final orbital matrix, stored in array C is:\n",
      "\n",
      "[[-0.80191636  0.78226468]\n",
      " [-0.33680129 -1.06844409]]\n",
      "\n",
      "\n",
      "The final density matrix, stored in arary P is: \n",
      "\n",
      "[[1.28613969 0.54017292]\n",
      " [0.54017292 0.22687021]]\n",
      "hony soit qui mal y pence, bitchezz!\n"
     ]
    }
   ],
   "source": [
    "# LFG!!!!\n",
    "tol = 100\n",
    "while tol > 10**-5:\n",
    "\n",
    "# get fock matrix using guess start\n",
    "    G = np.zeros((B,B))\n",
    "    for i in range(B):\n",
    "        for j in range(B):\n",
    "             for x in range(B):\n",
    "                for y in range(B):\n",
    "                    G[i,j] += P[x,y]*(multi_electron_tensor[i,j,y,x]-0.5*multi_electron_tensor[i,x,y,j])\n",
    "    Fock = Hcore + G\n",
    "    # Next: get Fock matrix in orthogonalized basis\n",
    "    Fockprime = dot(X.T, dot(Fock, X))\n",
    "    evalFockprime, Cprime = np.linalg.eig(Fockprime)\n",
    "    # correct the ordering of eigenvalues and vectors\n",
    "    # lowest MOs as first column of C so P is correct\n",
    "    idx = evalFockprime.argsort()\n",
    "    evalFockprime = evalFockprime[idx]\n",
    "    Cprime = Cprime[:, idx]\n",
    "    C = dot(X, Cprime)\n",
    "    \n",
    "    # create new density matrix summing only over electron pairs\n",
    "    for i in range(B):\n",
    "        for j in range(B): \n",
    "            for a in range(int(N/2)):\n",
    "                P[i,j] = 2*C[i,a]*C[j,a]\n",
    "    P_list.append(P)\n",
    "    tol = SD_successive_density_matrix_elements(P_previous, P)\n",
    "    P_previous = P.copy()\n",
    "# PRINTING TIME\n",
    "print('\\n')\n",
    "print('STOnG restricted closed shell HF converged in {} iterations'.format(len(P_list)))\n",
    "print('\\n')\n",
    "print('The orbital energies are {} and {} in units of Hartree, ofc'.format(evalFockprime[0], evalFockprime[1]))\n",
    "print('\\n')\n",
    "print(f'The final orbital matrix, stored in array C is:\\n\\n{C}')\n",
    "print('\\n')\n",
    "print(f'The final density matrix, stored in arary P is: \\n\\n{P}')\n",
    "print('hony soit qui mal y pence, bitchezz!')\n",
    "    "
   ]
  },
  {
   "cell_type": "code",
   "execution_count": 42,
   "metadata": {},
   "outputs": [],
   "source": [
    "# function to get nuclear repulsion, which i left out previously\n",
    "def get_nuclear_repulsion():\n",
    "    Nuc_repuls = 0\n",
    "    for idx_a, A in enumerate(atoms):\n",
    "        for idx_b, B in enumerate(atoms):\n",
    "            if idx_a == idx_b:\n",
    "                continue\n",
    "            charge_A = charge_dict[A]\n",
    "            charge_B = charge_dict[B]\n",
    "            product = charge_A*charge_B\n",
    "            Ra = atom_coords[idx_a]\n",
    "            Rb = atom_coords[idx_b]\n",
    "            R = np.linalg.norm(Ra-Rb)\n",
    "            Nuc_repuls += product/R\n",
    "    return Nuc_repuls*0.5"
   ]
  },
  {
   "cell_type": "code",
   "execution_count": 43,
   "metadata": {},
   "outputs": [
    {
     "data": {
      "text/plain": [
       "1.366867140513942"
      ]
     },
     "execution_count": 43,
     "metadata": {},
     "output_type": "execute_result"
    }
   ],
   "source": [
    "get_nuclear_repulsion()"
   ]
  },
  {
   "cell_type": "code",
   "execution_count": 47,
   "metadata": {},
   "outputs": [
    {
     "data": {
      "text/plain": [
       "0.0"
      ]
     },
     "execution_count": 47,
     "metadata": {},
     "output_type": "execute_result"
    }
   ],
   "source": [
    "# Explore a little with the density matrix and look at techniques for sparse matrices\n",
    "# even though it is not sparse, just to practice a little. \n",
    "sparsity = 1 - count_nonzero(P) / P.size\n",
    "sparsity # should be zero for the HeH problem!"
   ]
  },
  {
   "cell_type": "code",
   "execution_count": 48,
   "metadata": {},
   "outputs": [],
   "source": [
    "# next up: practice a technique for sparse matrices, even though again............\n",
    "# BUT the off-off-diag elements in density matrices for larger systems are zero \n",
    "# after orthogonalization, so like...yeah. This stuff will apply for larger systems! \n",
    "# So it's worth the practice!"
   ]
  },
  {
   "cell_type": "code",
   "execution_count": null,
   "metadata": {},
   "outputs": [],
   "source": []
  }
 ],
 "metadata": {
  "kernelspec": {
   "display_name": "Python 3",
   "language": "python",
   "name": "python3"
  },
  "language_info": {
   "codemirror_mode": {
    "name": "ipython",
    "version": 3
   },
   "file_extension": ".py",
   "mimetype": "text/x-python",
   "name": "python",
   "nbconvert_exporter": "python",
   "pygments_lexer": "ipython3",
   "version": "3.8.3"
  }
 },
 "nbformat": 4,
 "nbformat_minor": 2
}
